{
 "cells": [
  {
   "cell_type": "markdown",
   "metadata": {},
   "source": [
    "# Project-1: Student Portfolio"
   ]
  },
  {
   "cell_type": "code",
   "execution_count": 6,
   "metadata": {},
   "outputs": [
    {
     "name": "stdout",
     "output_type": "stream",
     "text": [
      "Enter name of the student:Ram\n",
      "Enter the class:9th\n",
      "Enter the section:B\n",
      "Enter roll number:23\n",
      "Enter English marks:45\n",
      "Enter Maths marks:49\n",
      "Enter Science marks:43\n"
     ]
    }
   ],
   "source": [
    "name=input(\"Enter name of the student:\")\n",
    "standard=input(\"Enter the class:\")\n",
    "div=input(\"Enter the section:\")\n",
    "roll=int(input(\"Enter roll number:\"))\n",
    "eng=int(input(\"Enter English marks:\"))\n",
    "mat=int(input(\"Enter Maths marks:\"))\n",
    "sci=int(input(\"Enter Science marks:\"))\n"
   ]
  },
  {
   "cell_type": "code",
   "execution_count": 7,
   "metadata": {},
   "outputs": [
    {
     "name": "stdout",
     "output_type": "stream",
     "text": [
      "Student Portfolio:\n",
      "Name: Ram\n",
      "Class: 9th - B\n",
      "Roll No.: 23\n",
      "English:45\n",
      "Maths:49\n",
      "Science:43\n",
      "Total Marks: 137 /150\n"
     ]
    }
   ],
   "source": [
    "print(\"Student Portfolio:\")\n",
    "print(\"Name:\",name)\n",
    "print(\"Class:\",standard,'-',div)\n",
    "print(\"Roll No.:\",roll)\n",
    "print(\"English:\"+str(eng)+\"\\n\"+\"Maths:\"+str(mat)+\"\\n\"+\"Science:\"+str(sci))\n",
    "print(\"Total Marks:\",mat+eng+sci,\"/150\")"
   ]
  },
  {
   "cell_type": "code",
   "execution_count": null,
   "metadata": {},
   "outputs": [],
   "source": []
  }
 ],
 "metadata": {
  "kernelspec": {
   "display_name": "Python 3",
   "language": "python",
   "name": "python3"
  },
  "language_info": {
   "codemirror_mode": {
    "name": "ipython",
    "version": 3
   },
   "file_extension": ".py",
   "mimetype": "text/x-python",
   "name": "python",
   "nbconvert_exporter": "python",
   "pygments_lexer": "ipython3",
   "version": "3.8.5"
  }
 },
 "nbformat": 4,
 "nbformat_minor": 4
}
